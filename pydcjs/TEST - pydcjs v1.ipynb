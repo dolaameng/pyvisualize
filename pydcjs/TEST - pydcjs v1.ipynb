{
 "cells": [
  {
   "cell_type": "code",
   "execution_count": 1,
   "metadata": {
    "collapsed": true
   },
   "outputs": [],
   "source": [
    "%load_ext autoreload\n",
    "%autoreload 2"
   ]
  },
  {
   "cell_type": "code",
   "execution_count": 2,
   "metadata": {
    "collapsed": true
   },
   "outputs": [],
   "source": [
    "import dcjs"
   ]
  },
  {
   "cell_type": "code",
   "execution_count": 27,
   "metadata": {
    "collapsed": false
   },
   "outputs": [
    {
     "name": "stdout",
     "output_type": "stream",
     "text": [
      "\n",
      "\toptions[\"location-bar\"] = {\n",
      "\t\tanchor: \"#location-bar\"\n",
      "\t\t, feature: \"location\"\n",
      "\t\t, width: 600\n",
      "\t\t, height: 300\n",
      "\t\t, xAxisLabel: \"\"\n",
      "\t\t, yAxisLabel: ''\n",
      "\t};\n",
      "\tcharts[\"location-bar\"] = dc.barChart(options[\"location-bar\"].anchor);\n",
      "\tdims[\"location-bar\"] = ndx.dimension(function (d) {return d[options[\"location-bar\"].feature];});\n",
      "\tgroups[\"location-bar\"] = dims[\"location-bar\"].group();\n",
      "\n",
      "\tcharts[\"location-bar\"]\n",
      "\t\t.width(options[\"location-bar\"].width).height(options[\"location-bar\"].height)\n",
      "\t\t.dimension(dims[\"location-bar\"])\n",
      "\t\t.group(groups[\"location-bar\"])\n",
      "\t\t.x(d3.scale.ordinal())\n",
      "\t\t.xUnits(dc.units.ordinal)\n",
      "\t\t.xAxisLabel(options[\"location-bar\"].xAxisLabel)\n",
      "\t\t.yAxisLabel(options[\"location-bar\"].yAxisLabel)\n",
      "\t\t;\n",
      "\t\t\n"
     ]
    }
   ],
   "source": [
    "print dcjs.plots.categorical_histogram_bar(anchor_id = \"location-bar\", feature = \"location\",)"
   ]
  },
  {
   "cell_type": "code",
   "execution_count": 28,
   "metadata": {
    "collapsed": false
   },
   "outputs": [
    {
     "name": "stdout",
     "output_type": "stream",
     "text": [
      "\n",
      "\toptions[\"location-bar\"] = {\n",
      "\t\tanchor: \"#location-bar\"\n",
      "\t\t, feature: \"location\"\n",
      "\t\t, width: 600\n",
      "\t\t, height: 600\n",
      "\t\t// doesnt support xAxisLabel and yAxisLabel\n",
      "\t};\n",
      "\tcharts[\"location-bar\"] = dc.rowChart(options[\"location-bar\"].anchor);\n",
      "\tdims[\"location-bar\"] = ndx.dimension(function (d) {return d[options[\"location-bar\"].feature];});\n",
      "\tgroups[\"location-bar\"] = dims[\"location-bar\"].group();\n",
      "\n",
      "\tcharts[\"#location-bar\"]\n",
      "\t\t.width(options[\"location-bar\"].width).height(options[\"location-bar\"].height)\n",
      "\t\t.dimension(dims[\"location-bar\"])\n",
      "\t\t.group(groups[\"location-bar\"])\n",
      "\t\t.elasticX(true)\n",
      "\t\t;\n",
      "\t\n"
     ]
    }
   ],
   "source": [
    "print dcjs.plots.categorical_histogram_row(anchor_id = \"location-bar\", feature = \"location\",)"
   ]
  },
  {
   "cell_type": "code",
   "execution_count": 33,
   "metadata": {
    "collapsed": false
   },
   "outputs": [
    {
     "name": "stdout",
     "output_type": "stream",
     "text": [
      "\n",
      "\toptions[\"location-bar\"] = {\n",
      "\t\tanchor: \"#location-bar\"\n",
      "\t\t, timefeature: \"date\"\n",
      "\t\t, feature: \"location\"\n",
      "\t\t, width: 600\n",
      "\t\t, height: 300\n",
      "\t\t, margins: {top: 10, right: 50, bottom: 30, left: 50}\n",
      "\t\t, xAxisLabel: \"\"\n",
      "\t\t, yAxisLabel: \"\"\n",
      "\t};\n",
      "\tcharts[\"location-bar\"] = dc.lineChart(options[\"location-bar\"].anchor);\n",
      "\tdims[\"location-bar\"] = ndx.dimension(function (d) {\n",
      "\t\treturn new Date(d[options[\"location-bar\"].timefeature]); \n",
      "\t});\n",
      "\tgroups[\"location-bar\"] = dims[\"location-bar\"].group().reduce(\n",
      "\t\t// reduce add\n",
      "\t\tfunction (p, v) {\n",
      "\t\t\tvar f = options[\"location-bar\"].feature; \n",
      "\t\t\tp[v[f]] = (p[v[f]] || 0) + 1;\n",
      "\t\t\treturn p;\n",
      "\t\t}\n",
      "\t\t// reduce remove\n",
      "\t\t, function (p, v) {\n",
      "\t\t\tvar f = options[\"location-bar\"].feature; \n",
      "\t\t\tp[v[f]] = (p[v[f]] || 0) - 1;\n",
      "\t\t\treturn p;\n",
      "\t\t}\n",
      "\t\t// reduce init\n",
      "\t\t, function () {\n",
      "\t\t\treturn {};\n",
      "\t\t}\n",
      "\t);\n",
      "\tvar minDate = new Date(dims[\"location-bar\"].bottom(1)[0][options[\"location-bar\"].timefeature]);\n",
      "\tvar maxDate = new Date(dims[\"location-bar\"].top(1)[0][options[\"location-bar\"].timefeature]);\n",
      "\tvar feature_values = [];\n",
      "\tndx.dimension(function (d) {return d[options[\"location-bar\"].feature];})\n",
      "\t\t\t\t\t\t\t.group().top(Infinity).forEach(function(kv){feature_values.push(kv.key);});\n",
      "\tvar select_stack = function (i) {return function(kv) {return (kv.value[i] || 0); } };\n",
      "\tcharts[\"location-bar\"]\n",
      "\t\t.width(options[\"location-bar\"].width).height(options[\"location-bar\"].height)\n",
      "\t\t.dimension(dims[\"location-bar\"])\n",
      "\t\t.group(groups[\"location-bar\"], feature_values[0], select_stack(feature_values[0]))\n",
      "\t\t.margins(options[\"location-bar\"].margins)\n",
      "\t\t.x(d3.time.scale().domain([minDate, maxDate]))\n",
      "\t\t.renderArea(true)\n",
      "\t\t.elasticY(true)\n",
      "\t\t.xAxisLabel(options[\"location-bar\"].xAxisLabel)\n",
      "\t\t.yAxisLabel(options[\"location-bar\"].yAxisLabel)\n",
      "\t\t.legend(dc.legend())\n",
      "\t\t;\n",
      "\tfor (var i = 1; i < feature_values.length; ++i) {\n",
      "\t\tcharts[\"location-bar\"].stack(groups[\"location-bar\"], feature_values[i], \n",
      "\t\t\tselect_stack(feature_values[i]));\n",
      "\t}\n",
      "\t\n"
     ]
    }
   ],
   "source": [
    "print dcjs.plots.categorical_timeseries_area(anchor_id = \"location-bar\", \n",
    "                                             timefeature = \"date\", feature = \"location\",)"
   ]
  },
  {
   "cell_type": "code",
   "execution_count": null,
   "metadata": {
    "collapsed": true
   },
   "outputs": [],
   "source": []
  }
 ],
 "metadata": {
  "kernelspec": {
   "display_name": "Python 2",
   "language": "python",
   "name": "python2"
  },
  "language_info": {
   "codemirror_mode": {
    "name": "ipython",
    "version": 2
   },
   "file_extension": ".py",
   "mimetype": "text/x-python",
   "name": "python",
   "nbconvert_exporter": "python",
   "pygments_lexer": "ipython2",
   "version": "2.7.6"
  }
 },
 "nbformat": 4,
 "nbformat_minor": 0
}
