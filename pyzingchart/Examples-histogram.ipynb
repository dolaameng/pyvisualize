{
 "cells": [
  {
   "cell_type": "code",
   "execution_count": 1,
   "metadata": {
    "collapsed": false
   },
   "outputs": [],
   "source": [
    "%matplotlib inline\n",
    "%load_ext autoreload\n",
    "%autoreload 2"
   ]
  },
  {
   "cell_type": "code",
   "execution_count": 2,
   "metadata": {
    "collapsed": true
   },
   "outputs": [],
   "source": [
    "import matplotlib.pyplot as plt\n",
    "from zingchart import plots\n",
    "import utils\n",
    "import pandas as pd\n"
   ]
  },
  {
   "cell_type": "code",
   "execution_count": 3,
   "metadata": {
    "collapsed": false
   },
   "outputs": [],
   "source": [
    "## sample data - iris from sklearn\n",
    "iris = pd.read_csv(\"../data/iris.csv\")"
   ]
  },
  {
   "cell_type": "markdown",
   "metadata": {},
   "source": [
    "## pass a series"
   ]
  },
  {
   "cell_type": "code",
   "execution_count": 19,
   "metadata": {
    "collapsed": false
   },
   "outputs": [
    {
     "data": {
      "text/html": [
       "<iframe srcdoc=\"\n",
       "    <head>\n",
       "        <script src=&quot;http://cdn.zingchart.com/zingchart.min.js&quot;></script>\n",
       "        <script>zingchart.MODULESDIR=&quot;http://cdn.zingchart.com/modules/&quot;;</script>\n",
       "    </head>\n",
       "    <div id=&quot;zingchart-plot&quot;></div><script>\n",
       "    zingchart.render({\n",
       "        &quot;id&quot;: &quot;zingchart-plot&quot;\n",
       "        , &quot;width&quot;: 600\n",
       "        , &quot;height&quot;: 400\n",
       "        , &quot;data&quot;: {&quot;graphset&quot;: [{&quot;series&quot;: [{&quot;values&quot;: [9, 23, 14, 27, 16, 26, 18, 6, 5, 6], &quot;background-color&quot;: &quot;#85d6e4&quot;}], &quot;scale-x&quot;: {&quot;values&quot;: [4.3, 4.66, 5.02, 5.38, 5.74, 6.1, 6.46, 6.82, 7.18, 7.54, 7.9]}, &quot;type&quot;: &quot;vbar&quot;, &quot;tooltip&quot;: {&quot;border-radius&quot;: &quot;8px&quot;, &quot;font-size&quot;: &quot;12px&quot;, &quot;text&quot;: &quot;<b>Value: %k</b><br><b>Count: %v</b>&quot;, &quot;padding&quot;: &quot;5px 5px&quot;, &quot;alpha&quot;: 0.9, &quot;text-align&quot;: &quot;left&quot;}, &quot;title&quot;: {&quot;text&quot;: &quot;Histogram&quot;, &quot;background-color&quot;: &quot;none&quot;, &quot;font-color&quot;: &quot;#000000&quot;}}]}\n",
       "    });\n",
       "    </script>\" style='width:100%; height: 500px; border: none'></iframe>"
      ],
      "text/plain": [
       "<IPython.core.display.HTML object>"
      ]
     },
     "execution_count": 19,
     "metadata": {},
     "output_type": "execute_result"
    }
   ],
   "source": [
    "plot_data = plots.histogram(iris['sepal length (cm)'])\n",
    "utils.ipython_plot_zingchart(plot_data)"
   ]
  },
  {
   "cell_type": "code",
   "execution_count": 20,
   "metadata": {
    "collapsed": false
   },
   "outputs": [
    {
     "data": {
      "text/html": [
       "<iframe srcdoc=\"\n",
       "    <head>\n",
       "        <script src=&quot;http://cdn.zingchart.com/zingchart.min.js&quot;></script>\n",
       "        <script>zingchart.MODULESDIR=&quot;http://cdn.zingchart.com/modules/&quot;;</script>\n",
       "    </head>\n",
       "    <div id=&quot;zingchart-plot&quot;></div><script>\n",
       "    zingchart.render({\n",
       "        &quot;id&quot;: &quot;zingchart-plot&quot;\n",
       "        , &quot;width&quot;: 600\n",
       "        , &quot;height&quot;: 400\n",
       "        , &quot;data&quot;: {&quot;graphset&quot;: [{&quot;series&quot;: [{&quot;values&quot;: [4, 5, 7, 16, 9, 5, 13, 14, 10, 6, 10, 16, 7, 11, 4, 2, 4, 1, 5, 1], &quot;background-color&quot;: &quot;#85d6e4&quot;}], &quot;scale-x&quot;: {&quot;values&quot;: [4.3, 4.48, 4.66, 4.84, 5.02, 5.2, 5.38, 5.56, 5.74, 5.92, 6.1, 6.28, 6.46, 6.64, 6.82, 7.0, 7.18, 7.36, 7.54, 7.72, 7.9]}, &quot;type&quot;: &quot;vbar&quot;, &quot;tooltip&quot;: {&quot;border-radius&quot;: &quot;8px&quot;, &quot;font-size&quot;: &quot;12px&quot;, &quot;text&quot;: &quot;<b>Value: %k</b><br><b>Count: %v</b>&quot;, &quot;padding&quot;: &quot;5px 5px&quot;, &quot;alpha&quot;: 0.9, &quot;text-align&quot;: &quot;left&quot;}, &quot;title&quot;: {&quot;text&quot;: &quot;Histogram&quot;, &quot;background-color&quot;: &quot;none&quot;, &quot;font-color&quot;: &quot;#000000&quot;}}]}\n",
       "    });\n",
       "    </script>\" style='width:100%; height: 500px; border: none'></iframe>"
      ],
      "text/plain": [
       "<IPython.core.display.HTML object>"
      ]
     },
     "execution_count": 20,
     "metadata": {},
     "output_type": "execute_result"
    }
   ],
   "source": [
    "plot_data = plots.histogram(iris['sepal length (cm)'], bins=20)\n",
    "utils.ipython_plot_zingchart(plot_data)"
   ]
  },
  {
   "cell_type": "markdown",
   "metadata": {},
   "source": [
    "## pass a dataframe"
   ]
  },
  {
   "cell_type": "code",
   "execution_count": 21,
   "metadata": {
    "collapsed": false
   },
   "outputs": [
    {
     "data": {
      "text/html": [
       "<iframe srcdoc=\"\n",
       "    <head>\n",
       "        <script src=&quot;http://cdn.zingchart.com/zingchart.min.js&quot;></script>\n",
       "        <script>zingchart.MODULESDIR=&quot;http://cdn.zingchart.com/modules/&quot;;</script>\n",
       "    </head>\n",
       "    <div id=&quot;zingchart-plot&quot;></div><script>\n",
       "    zingchart.render({\n",
       "        &quot;id&quot;: &quot;zingchart-plot&quot;\n",
       "        , &quot;width&quot;: 600\n",
       "        , &quot;height&quot;: 400\n",
       "        , &quot;data&quot;: {&quot;graphset&quot;: [{&quot;series&quot;: [{&quot;values&quot;: [4, 5, 7, 16, 9, 5, 13, 14, 10, 6, 10, 16, 7, 11, 4, 2, 4, 1, 5, 1], &quot;background-color&quot;: &quot;#85d6e4&quot;}], &quot;scale-x&quot;: {&quot;values&quot;: [4.3, 4.48, 4.66, 4.84, 5.02, 5.2, 5.38, 5.56, 5.74, 5.92, 6.1, 6.28, 6.46, 6.64, 6.82, 7.0, 7.18, 7.36, 7.54, 7.72, 7.9]}, &quot;type&quot;: &quot;vbar&quot;, &quot;tooltip&quot;: {&quot;border-radius&quot;: &quot;8px&quot;, &quot;font-size&quot;: &quot;12px&quot;, &quot;text&quot;: &quot;<b>Value: %k</b><br><b>Count: %v</b>&quot;, &quot;padding&quot;: &quot;5px 5px&quot;, &quot;alpha&quot;: 0.9, &quot;text-align&quot;: &quot;left&quot;}, &quot;title&quot;: {&quot;text&quot;: &quot;sepal length (cm)&quot;, &quot;background-color&quot;: &quot;none&quot;, &quot;font-color&quot;: &quot;#000000&quot;}}, {&quot;series&quot;: [{&quot;values&quot;: [1, 3, 4, 3, 8, 14, 14, 10, 26, 12, 19, 12, 6, 3, 9, 2, 1, 1, 1, 1], &quot;background-color&quot;: &quot;#85d6e4&quot;}], &quot;scale-x&quot;: {&quot;values&quot;: [2.0, 2.12, 2.24, 2.36, 2.48, 2.6, 2.72, 2.84, 2.96, 3.08, 3.2, 3.32, 3.44, 3.56, 3.68, 3.8, 3.92, 4.04, 4.16, 4.28, 4.4]}, &quot;type&quot;: &quot;vbar&quot;, &quot;tooltip&quot;: {&quot;border-radius&quot;: &quot;8px&quot;, &quot;font-size&quot;: &quot;12px&quot;, &quot;text&quot;: &quot;<b>Value: %k</b><br><b>Count: %v</b>&quot;, &quot;padding&quot;: &quot;5px 5px&quot;, &quot;alpha&quot;: 0.9, &quot;text-align&quot;: &quot;left&quot;}, &quot;title&quot;: {&quot;text&quot;: &quot;sepal width (cm)&quot;, &quot;background-color&quot;: &quot;none&quot;, &quot;font-color&quot;: &quot;#000000&quot;}}, {&quot;series&quot;: [{&quot;values&quot;: [4, 33, 11, 2, 0, 0, 1, 2, 3, 5, 12, 14, 12, 17, 6, 12, 7, 4, 2, 3], &quot;background-color&quot;: &quot;#85d6e4&quot;}], &quot;scale-x&quot;: {&quot;values&quot;: [1.0, 1.3, 1.59, 1.89, 2.18, 2.48, 2.77, 3.07, 3.36, 3.66, 3.95, 4.25, 4.54, 4.84, 5.13, 5.43, 5.72, 6.02, 6.31, 6.6, 6.9]}, &quot;type&quot;: &quot;vbar&quot;, &quot;tooltip&quot;: {&quot;border-radius&quot;: &quot;8px&quot;, &quot;font-size&quot;: &quot;12px&quot;, &quot;text&quot;: &quot;<b>Value: %k</b><br><b>Count: %v</b>&quot;, &quot;padding&quot;: &quot;5px 5px&quot;, &quot;alpha&quot;: 0.9, &quot;text-align&quot;: &quot;left&quot;}, &quot;title&quot;: {&quot;text&quot;: &quot;petal length (cm)&quot;, &quot;background-color&quot;: &quot;none&quot;, &quot;font-color&quot;: &quot;#000000&quot;}}, {&quot;series&quot;: [{&quot;values&quot;: [34, 7, 7, 1, 1, 0, 0, 7, 3, 5, 21, 12, 4, 2, 12, 11, 6, 3, 8, 6], &quot;background-color&quot;: &quot;#85d6e4&quot;}], &quot;scale-x&quot;: {&quot;values&quot;: [0.1, 0.22, 0.34, 0.46, 0.58, 0.7, 0.82, 0.94, 1.06, 1.18, 1.3, 1.42, 1.54, 1.66, 1.78, 1.9, 2.02, 2.14, 2.26, 2.38, 2.5]}, &quot;type&quot;: &quot;vbar&quot;, &quot;tooltip&quot;: {&quot;border-radius&quot;: &quot;8px&quot;, &quot;font-size&quot;: &quot;12px&quot;, &quot;text&quot;: &quot;<b>Value: %k</b><br><b>Count: %v</b>&quot;, &quot;padding&quot;: &quot;5px 5px&quot;, &quot;alpha&quot;: 0.9, &quot;text-align&quot;: &quot;left&quot;}, &quot;title&quot;: {&quot;text&quot;: &quot;petal width (cm)&quot;, &quot;background-color&quot;: &quot;none&quot;, &quot;font-color&quot;: &quot;#000000&quot;}}]}\n",
       "    });\n",
       "    </script>\" style='width:100%; height: 500px; border: none'></iframe>"
      ],
      "text/plain": [
       "<IPython.core.display.HTML object>"
      ]
     },
     "execution_count": 21,
     "metadata": {},
     "output_type": "execute_result"
    }
   ],
   "source": [
    "plot_data = plots.histogram(iris.iloc[:,:4], bins=20)\n",
    "utils.ipython_plot_zingchart(plot_data)"
   ]
  },
  {
   "cell_type": "markdown",
   "metadata": {},
   "source": [
    "## pass a dict of series"
   ]
  },
  {
   "cell_type": "code",
   "execution_count": 22,
   "metadata": {
    "collapsed": true
   },
   "outputs": [],
   "source": [
    "data = {}\n",
    "for f, df in iris.groupby(\"flower_type\"):\n",
    "    data[f] = df[\"sepal length (cm)\"]"
   ]
  },
  {
   "cell_type": "code",
   "execution_count": 23,
   "metadata": {
    "collapsed": false
   },
   "outputs": [
    {
     "data": {
      "text/html": [
       "<iframe srcdoc=\"\n",
       "    <head>\n",
       "        <script src=&quot;http://cdn.zingchart.com/zingchart.min.js&quot;></script>\n",
       "        <script>zingchart.MODULESDIR=&quot;http://cdn.zingchart.com/modules/&quot;;</script>\n",
       "    </head>\n",
       "    <div id=&quot;zingchart-plot&quot;></div><script>\n",
       "    zingchart.render({\n",
       "        &quot;id&quot;: &quot;zingchart-plot&quot;\n",
       "        , &quot;width&quot;: 600\n",
       "        , &quot;height&quot;: 400\n",
       "        , &quot;data&quot;: {&quot;graphset&quot;: [{&quot;series&quot;: [{&quot;values&quot;: [4, 1, 6, 5, 12, 8, 4, 5, 2, 3], &quot;background-color&quot;: &quot;#85d6e4&quot;}], &quot;scale-x&quot;: {&quot;values&quot;: [4.3, 4.45, 4.6, 4.75, 4.9, 5.05, 5.2, 5.35, 5.5, 5.65, 5.8]}, &quot;type&quot;: &quot;vbar&quot;, &quot;tooltip&quot;: {&quot;border-radius&quot;: &quot;8px&quot;, &quot;font-size&quot;: &quot;12px&quot;, &quot;text&quot;: &quot;<b>Value: %k</b><br><b>Count: %v</b>&quot;, &quot;padding&quot;: &quot;5px 5px&quot;, &quot;alpha&quot;: 0.9, &quot;text-align&quot;: &quot;left&quot;}, &quot;title&quot;: {&quot;text&quot;: &quot;setosa&quot;, &quot;background-color&quot;: &quot;none&quot;, &quot;font-color&quot;: &quot;#000000&quot;}}, {&quot;series&quot;: [{&quot;values&quot;: [4, 1, 6, 10, 5, 8, 5, 3, 5, 3], &quot;background-color&quot;: &quot;#85d6e4&quot;}], &quot;scale-x&quot;: {&quot;values&quot;: [4.9, 5.11, 5.32, 5.53, 5.74, 5.95, 6.16, 6.37, 6.58, 6.79, 7.0]}, &quot;type&quot;: &quot;vbar&quot;, &quot;tooltip&quot;: {&quot;border-radius&quot;: &quot;8px&quot;, &quot;font-size&quot;: &quot;12px&quot;, &quot;text&quot;: &quot;<b>Value: %k</b><br><b>Count: %v</b>&quot;, &quot;padding&quot;: &quot;5px 5px&quot;, &quot;alpha&quot;: 0.9, &quot;text-align&quot;: &quot;left&quot;}, &quot;title&quot;: {&quot;text&quot;: &quot;versicolor&quot;, &quot;background-color&quot;: &quot;none&quot;, &quot;font-color&quot;: &quot;#000000&quot;}}, {&quot;series&quot;: [{&quot;values&quot;: [1, 0, 5, 5, 8, 9, 10, 5, 1, 6], &quot;background-color&quot;: &quot;#85d6e4&quot;}], &quot;scale-x&quot;: {&quot;values&quot;: [4.9, 5.2, 5.5, 5.8, 6.1, 6.4, 6.7, 7.0, 7.3, 7.6, 7.9]}, &quot;type&quot;: &quot;vbar&quot;, &quot;tooltip&quot;: {&quot;border-radius&quot;: &quot;8px&quot;, &quot;font-size&quot;: &quot;12px&quot;, &quot;text&quot;: &quot;<b>Value: %k</b><br><b>Count: %v</b>&quot;, &quot;padding&quot;: &quot;5px 5px&quot;, &quot;alpha&quot;: 0.9, &quot;text-align&quot;: &quot;left&quot;}, &quot;title&quot;: {&quot;text&quot;: &quot;virginica&quot;, &quot;background-color&quot;: &quot;none&quot;, &quot;font-color&quot;: &quot;#000000&quot;}}]}\n",
       "    });\n",
       "    </script>\" style='width:100%; height: 500px; border: none'></iframe>"
      ],
      "text/plain": [
       "<IPython.core.display.HTML object>"
      ]
     },
     "execution_count": 23,
     "metadata": {},
     "output_type": "execute_result"
    }
   ],
   "source": [
    "plot_data = plots.histogram(data, bins=10)\n",
    "utils.ipython_plot_zingchart(plot_data)"
   ]
  },
  {
   "cell_type": "code",
   "execution_count": null,
   "metadata": {
    "collapsed": true
   },
   "outputs": [],
   "source": []
  }
 ],
 "metadata": {
  "kernelspec": {
   "display_name": "Python 2",
   "language": "python",
   "name": "python2"
  },
  "language_info": {
   "codemirror_mode": {
    "name": "ipython",
    "version": 2
   },
   "file_extension": ".py",
   "mimetype": "text/x-python",
   "name": "python",
   "nbconvert_exporter": "python",
   "pygments_lexer": "ipython2",
   "version": "2.7.6"
  }
 },
 "nbformat": 4,
 "nbformat_minor": 0
}
